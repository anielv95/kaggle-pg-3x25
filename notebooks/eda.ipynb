{
 "cells": [
  {
   "cell_type": "markdown",
   "metadata": {},
   "source": [
    "# Importing libraries"
   ]
  },
  {
   "cell_type": "code",
   "execution_count": 2,
   "metadata": {},
   "outputs": [],
   "source": [
    "import zipfile\n",
    "import pandas as pd\n",
    "from sklearn.model_selection import train_test_split\n",
    "from pandas.plotting import scatter_matrix\n",
    "import matplotlib.pyplot as plt\n",
    "import seaborn as sns\n",
    "\n",
    "from sklearn.model_selection import cross_val_score\n",
    "from sklearn.ensemble import RandomForestClassifier\n",
    "#from sklearn.metrics import roc_auc_score\n",
    "from sklearn.metrics import median_absolute_errors\n",
    "from sklearn.feature_extraction import DictVectorizer\n",
    "import pickle"
   ]
  },
  {
   "cell_type": "markdown",
   "metadata": {},
   "source": [
    "# Getting data"
   ]
  },
  {
   "cell_type": "code",
   "execution_count": 5,
   "metadata": {},
   "outputs": [],
   "source": [
    "with zipfile.ZipFile(\"/gh/kaggle-pg-3x25/data/playground-series-s3e25.zip\") as z:\n",
    "    with z.open(\"sample_submission.csv\") as f:\n",
    "        sample_submission = pd.read_csv(f)\n",
    "    with z.open(\"test.csv\") as f:\n",
    "        test = pd.read_csv(f)\n",
    "    with z.open(\"train.csv\") as f:\n",
    "        train = pd.read_csv(f)"
   ]
  },
  {
   "cell_type": "markdown",
   "metadata": {},
   "source": [
    "# Exploring data"
   ]
  },
  {
   "cell_type": "code",
   "execution_count": 6,
   "metadata": {},
   "outputs": [
    {
     "name": "stdout",
     "output_type": "stream",
     "text": [
      "<class 'pandas.core.frame.DataFrame'>\n",
      "RangeIndex: 6939 entries, 0 to 6938\n",
      "Data columns (total 2 columns):\n",
      " #   Column    Non-Null Count  Dtype  \n",
      "---  ------    --------------  -----  \n",
      " 0   id        6939 non-null   int64  \n",
      " 1   Hardness  6939 non-null   float64\n",
      "dtypes: float64(1), int64(1)\n",
      "memory usage: 108.6 KB\n"
     ]
    }
   ],
   "source": [
    "sample_submission.info()"
   ]
  },
  {
   "cell_type": "code",
   "execution_count": 7,
   "metadata": {},
   "outputs": [
    {
     "name": "stdout",
     "output_type": "stream",
     "text": [
      "<class 'pandas.core.frame.DataFrame'>\n",
      "RangeIndex: 10407 entries, 0 to 10406\n",
      "Data columns (total 13 columns):\n",
      " #   Column                 Non-Null Count  Dtype  \n",
      "---  ------                 --------------  -----  \n",
      " 0   id                     10407 non-null  int64  \n",
      " 1   allelectrons_Total     10407 non-null  float64\n",
      " 2   density_Total          10407 non-null  float64\n",
      " 3   allelectrons_Average   10407 non-null  float64\n",
      " 4   val_e_Average          10407 non-null  float64\n",
      " 5   atomicweight_Average   10407 non-null  float64\n",
      " 6   ionenergy_Average      10407 non-null  float64\n",
      " 7   el_neg_chi_Average     10407 non-null  float64\n",
      " 8   R_vdw_element_Average  10407 non-null  float64\n",
      " 9   R_cov_element_Average  10407 non-null  float64\n",
      " 10  zaratio_Average        10407 non-null  float64\n",
      " 11  density_Average        10407 non-null  float64\n",
      " 12  Hardness               10407 non-null  float64\n",
      "dtypes: float64(12), int64(1)\n",
      "memory usage: 1.0 MB\n"
     ]
    }
   ],
   "source": [
    "train.info()"
   ]
  },
  {
   "cell_type": "code",
   "execution_count": 8,
   "metadata": {},
   "outputs": [
    {
     "name": "stdout",
     "output_type": "stream",
     "text": [
      "<class 'pandas.core.frame.DataFrame'>\n",
      "RangeIndex: 6939 entries, 0 to 6938\n",
      "Data columns (total 12 columns):\n",
      " #   Column                 Non-Null Count  Dtype  \n",
      "---  ------                 --------------  -----  \n",
      " 0   id                     6939 non-null   int64  \n",
      " 1   allelectrons_Total     6939 non-null   float64\n",
      " 2   density_Total          6939 non-null   float64\n",
      " 3   allelectrons_Average   6939 non-null   float64\n",
      " 4   val_e_Average          6939 non-null   float64\n",
      " 5   atomicweight_Average   6939 non-null   float64\n",
      " 6   ionenergy_Average      6939 non-null   float64\n",
      " 7   el_neg_chi_Average     6939 non-null   float64\n",
      " 8   R_vdw_element_Average  6939 non-null   float64\n",
      " 9   R_cov_element_Average  6939 non-null   float64\n",
      " 10  zaratio_Average        6939 non-null   float64\n",
      " 11  density_Average        6939 non-null   float64\n",
      "dtypes: float64(11), int64(1)\n",
      "memory usage: 650.7 KB\n"
     ]
    }
   ],
   "source": [
    "test.info()"
   ]
  },
  {
   "cell_type": "code",
   "execution_count": 9,
   "metadata": {},
   "outputs": [
    {
     "data": {
      "text/html": [
       "<div>\n",
       "<style scoped>\n",
       "    .dataframe tbody tr th:only-of-type {\n",
       "        vertical-align: middle;\n",
       "    }\n",
       "\n",
       "    .dataframe tbody tr th {\n",
       "        vertical-align: top;\n",
       "    }\n",
       "\n",
       "    .dataframe thead th {\n",
       "        text-align: right;\n",
       "    }\n",
       "</style>\n",
       "<table border=\"1\" class=\"dataframe\">\n",
       "  <thead>\n",
       "    <tr style=\"text-align: right;\">\n",
       "      <th></th>\n",
       "      <th>id</th>\n",
       "      <th>Hardness</th>\n",
       "    </tr>\n",
       "  </thead>\n",
       "  <tbody>\n",
       "    <tr>\n",
       "      <th>0</th>\n",
       "      <td>10407</td>\n",
       "      <td>4.647</td>\n",
       "    </tr>\n",
       "    <tr>\n",
       "      <th>1</th>\n",
       "      <td>10408</td>\n",
       "      <td>4.647</td>\n",
       "    </tr>\n",
       "    <tr>\n",
       "      <th>2</th>\n",
       "      <td>10409</td>\n",
       "      <td>4.647</td>\n",
       "    </tr>\n",
       "  </tbody>\n",
       "</table>\n",
       "</div>"
      ],
      "text/plain": [
       "      id  Hardness\n",
       "0  10407     4.647\n",
       "1  10408     4.647\n",
       "2  10409     4.647"
      ]
     },
     "execution_count": 9,
     "metadata": {},
     "output_type": "execute_result"
    }
   ],
   "source": [
    "sample_submission.head(3)"
   ]
  },
  {
   "cell_type": "code",
   "execution_count": 10,
   "metadata": {},
   "outputs": [
    {
     "data": {
      "text/plain": [
       "4.646999999999999"
      ]
     },
     "execution_count": 10,
     "metadata": {},
     "output_type": "execute_result"
    }
   ],
   "source": [
    "sample_submission[\"Hardness\"].mean()"
   ]
  },
  {
   "cell_type": "code",
   "execution_count": 11,
   "metadata": {},
   "outputs": [
    {
     "data": {
      "text/plain": [
       "(4.647, 4.647)"
      ]
     },
     "execution_count": 11,
     "metadata": {},
     "output_type": "execute_result"
    }
   ],
   "source": [
    "sample_submission[\"Hardness\"].min(), sample_submission[\"Hardness\"].max()"
   ]
  },
  {
   "cell_type": "code",
   "execution_count": null,
   "metadata": {},
   "outputs": [],
   "source": []
  }
 ],
 "metadata": {
  "kernelspec": {
   "display_name": "Python 3",
   "language": "python",
   "name": "python3"
  },
  "language_info": {
   "codemirror_mode": {
    "name": "ipython",
    "version": 3
   },
   "file_extension": ".py",
   "mimetype": "text/x-python",
   "name": "python",
   "nbconvert_exporter": "python",
   "pygments_lexer": "ipython3",
   "version": "3.11.3"
  }
 },
 "nbformat": 4,
 "nbformat_minor": 2
}
